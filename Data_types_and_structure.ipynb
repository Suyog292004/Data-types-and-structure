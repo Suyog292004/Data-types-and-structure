{
  "nbformat": 4,
  "nbformat_minor": 0,
  "metadata": {
    "colab": {
      "provenance": []
    },
    "kernelspec": {
      "name": "python3",
      "display_name": "Python 3"
    },
    "language_info": {
      "name": "python"
    }
  },
  "cells": [
    {
      "cell_type": "markdown",
      "source": [
        "# **Data** **Types** **and** **Structures** **Questions**"
      ],
      "metadata": {
        "id": "XYaq9S0-9BYk"
      }
    },
    {
      "cell_type": "markdown",
      "source": [
        "1.What are data structures, and why are they important\n",
        "\n",
        "- data structure are ways of organizing and storing data effciently to enable easy access modification and processing.\n",
        "- important of data structure is improve efficiency of alogorithms, optimize memory usage, enable fatser data retrieval and manipulation, essential for problem solving in software devlopment"
      ],
      "metadata": {
        "id": "IPlUPAQisgL7"
      }
    },
    {
      "cell_type": "markdown",
      "source": [
        "2.Explain the difference between mutable and immutable data types with examples\n",
        "\n",
        "   - mutable data types allow modifications after they are created"
      ],
      "metadata": {
        "id": "h1gpq7hlw421"
      }
    },
    {
      "cell_type": "code",
      "source": [
        "number=[1,2,3]\n",
        "print(number)\n",
        "number.append(5)\n",
        "print(number)"
      ],
      "metadata": {
        "id": "hWMy7wiJy-MD",
        "colab": {
          "base_uri": "https://localhost:8080/"
        },
        "outputId": "8e48bbb0-2ece-4da4-9894-c58ce0d20875"
      },
      "execution_count": null,
      "outputs": [
        {
          "output_type": "stream",
          "name": "stdout",
          "text": [
            "[1, 2, 3]\n",
            "[1, 2, 3, 5]\n"
          ]
        }
      ]
    },
    {
      "cell_type": "markdown",
      "source": [
        "  - immutable data types do not allow modifications after creation"
      ],
      "metadata": {
        "id": "cRarbzmjzhIU"
      }
    },
    {
      "cell_type": "code",
      "source": [
        "number=(1,2,3)\n",
        "print(number)\n",
        "number[0]=5"
      ],
      "metadata": {
        "id": "-41HKMbaz_6G",
        "colab": {
          "base_uri": "https://localhost:8080/",
          "height": 193
        },
        "outputId": "d481dbda-06ea-4f53-a2c2-34c85e25c24e"
      },
      "execution_count": null,
      "outputs": [
        {
          "output_type": "stream",
          "name": "stdout",
          "text": [
            "(1, 2, 3)\n"
          ]
        },
        {
          "output_type": "error",
          "ename": "TypeError",
          "evalue": "'tuple' object does not support item assignment",
          "traceback": [
            "\u001b[0;31m---------------------------------------------------------------------------\u001b[0m",
            "\u001b[0;31mTypeError\u001b[0m                                 Traceback (most recent call last)",
            "\u001b[0;32m<ipython-input-7-14ccf848ca6f>\u001b[0m in \u001b[0;36m<cell line: 0>\u001b[0;34m()\u001b[0m\n\u001b[1;32m      1\u001b[0m \u001b[0mnumber\u001b[0m\u001b[0;34m=\u001b[0m\u001b[0;34m(\u001b[0m\u001b[0;36m1\u001b[0m\u001b[0;34m,\u001b[0m\u001b[0;36m2\u001b[0m\u001b[0;34m,\u001b[0m\u001b[0;36m3\u001b[0m\u001b[0;34m)\u001b[0m\u001b[0;34m\u001b[0m\u001b[0;34m\u001b[0m\u001b[0m\n\u001b[1;32m      2\u001b[0m \u001b[0mprint\u001b[0m\u001b[0;34m(\u001b[0m\u001b[0mnumber\u001b[0m\u001b[0;34m)\u001b[0m\u001b[0;34m\u001b[0m\u001b[0;34m\u001b[0m\u001b[0m\n\u001b[0;32m----> 3\u001b[0;31m \u001b[0mnumber\u001b[0m\u001b[0;34m[\u001b[0m\u001b[0;36m0\u001b[0m\u001b[0;34m]\u001b[0m\u001b[0;34m=\u001b[0m\u001b[0;36m5\u001b[0m\u001b[0;34m\u001b[0m\u001b[0;34m\u001b[0m\u001b[0m\n\u001b[0m",
            "\u001b[0;31mTypeError\u001b[0m: 'tuple' object does not support item assignment"
          ]
        }
      ]
    },
    {
      "cell_type": "markdown",
      "source": [
        "3.What are the main differences between lists and tuples in Python\n",
        "\n",
        "  - list is mutable it allow for change it is use sqaure bracket for syntax but performance is slower it is use more memory in list operation allow in append,remove,update and use case of list is when the data needs modification\n",
        "  - tuple is immutable it is not allow for channge and it is use parentheses for syntax but performnace is faster and use of memory is less in tuple operation allow only access and count and use case of tuple when data should remain constant"
      ],
      "metadata": {
        "id": "A8o6fd3r0iMW"
      }
    },
    {
      "cell_type": "markdown",
      "source": [
        "4.Describe how dictionaries store data\n",
        "\n",
        "   - a dictionary in Python is like a real-world dictionary You look up a word and it gives you the meaning every item in a dictionary has a key and a value python\n",
        "   - python converts each key into a unique number and If two keys accidentally have the same hash, python finds another place to store one of them if too many items are added, Python expands the dictionary and reorganizes the storage for efficiency\n",
        "   \n",
        "\n",
        "\n",
        "\n"
      ],
      "metadata": {
        "id": "pPJIulrq2_yy"
      }
    },
    {
      "cell_type": "markdown",
      "source": [
        "5.Why might you use a set instead of a list in Python\n",
        "\n",
        "-  a set is an unordered collection of unique elements, while a list is an ordered collection that allows duplicates a set automatically removes duplicates, while a list allows them\n",
        "- sets use hashing, so checking if an item exists is very fast Sets allow mathematical operations like union, intersection, and difference, which lists do not support directly"
      ],
      "metadata": {
        "id": "AM3jOwGo5eDl"
      }
    },
    {
      "cell_type": "markdown",
      "source": [
        "6.What is a string in Python, and how is it different from a list\n",
        "\n",
        "- a string in Python is a sequence of characters enclosed in quotes ' ' or \" \" Strings are immutable, meaning they cannot be changed after creation string is sequence of character and it is immutable\n",
        "- string is cannot modify individual character syntax use in string is \" \" , ' '  indexing and slicing both supprot in string"
      ],
      "metadata": {
        "id": "d5taGjGE6mTa"
      }
    },
    {
      "cell_type": "markdown",
      "source": [
        "7.How do tuples ensure data integrity in Python\n",
        "\n",
        "- a tuple in Python is an immutable sequence, meaning its elements cannot be modified after creation. This immutability helps ensure data integrity by preventing accidental changes tuples can be used as keys in dictionaries because they are immutable, while lists cannot\n",
        "- when you use tuples instead of lists, you guarantee that values won't change unexpectedly during execution and since tuples are fixed in size, Python optimizes them for faster access and lower memory usage compared to lists\n",
        "\n"
      ],
      "metadata": {
        "id": "f2ig1KtK73mQ"
      }
    },
    {
      "cell_type": "markdown",
      "source": [
        "8.What is a hash table, and how does it relate to dictionaries in Python\n",
        "\n",
        "  - a hash table is a data structure that stores key value pairs allowing for effient lookup insertion and deletion of data using a hash function to map.a hash table in python is nothing but a data structure where data is stored in an associative manner\n",
        "  - in python dictionaries are data structure that strord data as key value pairs allowing you to efficiently access and manipulate data.Mutuable data structure that allow you to store key value pairs"
      ],
      "metadata": {
        "id": "7u_8T5xb9Riz"
      }
    },
    {
      "cell_type": "markdown",
      "source": [
        "9.Can lists contain different data types in Python\n",
        "\n",
        " - python lists can store multiple data types in a single list. Unlike some programming languages that enforce type restrictions, Python lists are heterogeneous, meaning they can hold elements of different types at the same time\n"
      ],
      "metadata": {
        "id": "hqrCwpJVEJtc"
      }
    },
    {
      "cell_type": "markdown",
      "source": [
        "10.Explain why strings are immutable in Python\n",
        "\n",
        "\n",
        "- strings are immutable, meaning their values cannot be changed after they are created.Memory Efficiency String Interning\n",
        "Python optimizes memory usage by storing identical string values in the same memory location string interning\n",
        "If strings were mutable, modifying one would unintentionally affect all references to that string. Simplicity & Predictability\n",
        "With immutability, there's no unexpected modification of strings, making debugging and program behavior more predictabl\n",
        "- encourages Functional Programming\n",
        "Immutable objects align well with functional programming principles, where functions do not cause by side"
      ],
      "metadata": {
        "id": "4zcCpEplEyWY"
      }
    },
    {
      "cell_type": "markdown",
      "source": [
        "11.What advantages do dictionaries offer over lists for certain tasks\n",
        "\n",
        " - dictionaries automatically prevent duplicate keys, making them useful for tasks requiring unique identifiers accessing values in a dictionary by key is much faster than searching through a list, which requires O time in the worst case\n",
        " -  data stored as key-value pairs allows for more meaningful and structured access, rather than relying on index positions ictionaries allow different data types as values, whereas lists typically store homogeneous data or require indexing for mixed data retrieval"
      ],
      "metadata": {
        "id": "HuE19h8BaJB5"
      }
    },
    {
      "cell_type": "markdown",
      "source": [
        "12.Describe a scenario where using a tuple would be preferable over a list\n",
        "- tuple is preferable over a list when immutability, performance, or hashability is important\n",
        "- you're building a system that fetches user details from a database, returning name, age, and email Since these values should not be modified accidentally, a tuple is a better choice\n",
        "-Immutability → Prevents accidental modification of returned data\n",
        "fficient Unpacking → Supports easy multiple assignment (a, b, c = func()), making code cleaner\n",
        "Performance → Tuples are faster than lists due to their fixed size."
      ],
      "metadata": {
        "id": "grri6sETccSa"
      }
    },
    {
      "cell_type": "markdown",
      "source": [
        "13.How do sets handle duplicate values in Python\n",
        "\n",
        "- in this python set atomatically remove duplicate value when the element are added set are unorderd collection of unique element means they not allow duplicates\n",
        "- in python you added duplicate value to a set it is ignore and the set only keeps one instance of each unique value"
      ],
      "metadata": {
        "id": "amdz9ENqd8Lf"
      }
    },
    {
      "cell_type": "markdown",
      "source": [
        "14.How does the “in” keyword work differently for lists and dictionaries\n",
        "- he in keyword is used to check for membership in Python, but it works differently for lists and dictionaries due to their underlying data structures\n",
        "- in a list, Python checks each element one by one and in a dictionary, in checks for the existence of a key"
      ],
      "metadata": {
        "id": "4oQf9dj8gcVg"
      }
    },
    {
      "cell_type": "markdown",
      "source": [
        "15.Can you modify the elements of a tuple? Explain why or why not\n",
        " - you cannot modify the elements of a tuple in Python because tuples are immutable. This means that once a tuple is created, its elements cannot be changed, added, or removed\n",
        " - the reason of tuple are immutable is memory efficiency and hashability and data intergrity"
      ],
      "metadata": {
        "id": "9pCfnDgYhMe4"
      }
    },
    {
      "cell_type": "markdown",
      "source": [
        "16.What is a nested dictionary, and give an example of its use case\n",
        "- a nested dictionary is a dictionary within a dictionary, where the values of the outer dictionary are themselves dictionaries this his structure is useful for organizing complex data hierarchies\n",
        "- the usage of nested dictionary is efficiently organizes related data and allows easy lookup and modifications and keeps data structured and readable\n",
        "\n"
      ],
      "metadata": {
        "id": "blyEvjV-iOxe"
      }
    },
    {
      "cell_type": "markdown",
      "source": [
        "17.Describe the time complexity of accessing elements in a dictionary\n",
        "- In Python, dictionaries are implemented using hash tables, making element access very efficient In rare cases, hash collisions when multiple keys hash to the same value  can degrade performance When accessing an element using its key (dict[key]), Python computes the hash of the key and looks it up in the internal table.\n"
      ],
      "metadata": {
        "id": "G8N7b7rZ4TPM"
      }
    },
    {
      "cell_type": "markdown",
      "source": [
        "18.In what situations are lists preferred over dictionaries\n",
        "- if you need to maintain the order of elements, a list is the best choice\n",
        "python 3.7+ preserves insertion order in dictionaries, but lists are still better for ordered sequences\n",
        "- If you don't need key-value pairs, a list is simpler and more memory-efficient\n",
        "\n",
        "\n"
      ],
      "metadata": {
        "id": "VHZDGfwB5sYF"
      }
    },
    {
      "cell_type": "markdown",
      "source": [
        "19.Why are dictionaries considered unordered, and how does that affect data retrieval\n",
        "- python dictionaries were unordered because they were implemented using hash tables, which do not maintain a predictable order of keys\n",
        "- the placement of elements in memory depended on the hash values of keys rather than the order in which they were inserted"
      ],
      "metadata": {
        "id": "n_yUeQiS7z0k"
      }
    },
    {
      "cell_type": "markdown",
      "source": [
        "20.Explain the difference between a list and a dictionary in terms of data retrieval\n",
        "- lists are best for ordered collections when you frequently access elements by position\n",
        "- dictionaries are better for fast lookups when you need to retrieve values based on unique keys instead of numerical indices"
      ],
      "metadata": {
        "id": "BNmxxxqk8bFS"
      }
    },
    {
      "cell_type": "markdown",
      "source": [
        "# **Practical** **Questions**"
      ],
      "metadata": {
        "id": "DMynMlzN80Qi"
      }
    },
    {
      "cell_type": "code",
      "source": [
        "#1.Write a code to create a string with your name and print it\n",
        "name=(\"suyog\")\n",
        "print(name)"
      ],
      "metadata": {
        "colab": {
          "base_uri": "https://localhost:8080/"
        },
        "id": "iFFEVAnXI9cX",
        "outputId": "23d9e25f-1b8b-4c41-9ee9-b3ed911f93b5"
      },
      "execution_count": null,
      "outputs": [
        {
          "output_type": "stream",
          "name": "stdout",
          "text": [
            "suyog\n"
          ]
        }
      ]
    },
    {
      "cell_type": "code",
      "source": [
        "#2.Write a code to find the length of the string \"Hello World\"\n",
        "string=(\"hello world\")\n",
        "len(string)\n",
        "\n"
      ],
      "metadata": {
        "id": "7mp5HMFHJW9b",
        "colab": {
          "base_uri": "https://localhost:8080/"
        },
        "outputId": "cddeabd8-db1b-4b60-edf2-f7e24b29ac4e"
      },
      "execution_count": null,
      "outputs": [
        {
          "output_type": "execute_result",
          "data": {
            "text/plain": [
              "11"
            ]
          },
          "metadata": {},
          "execution_count": 3
        }
      ]
    },
    {
      "cell_type": "code",
      "source": [
        "#3.Write a code to slice the first 3 characters from the string \"Python Programming\"\n",
        "string=(\"python programming\")\n",
        "string[0:3]\n"
      ],
      "metadata": {
        "colab": {
          "base_uri": "https://localhost:8080/",
          "height": 35
        },
        "id": "zZo2eolirPLn",
        "outputId": "a1de66e2-499a-4559-eae9-1091fd02f49b"
      },
      "execution_count": null,
      "outputs": [
        {
          "output_type": "execute_result",
          "data": {
            "text/plain": [
              "'pyt'"
            ],
            "application/vnd.google.colaboratory.intrinsic+json": {
              "type": "string"
            }
          },
          "metadata": {},
          "execution_count": 23
        }
      ]
    },
    {
      "cell_type": "code",
      "source": [
        "#4.Write a code to convert the string \"hello\" to uppercase\n",
        "string=(\"hello\")\n",
        "string.upper()"
      ],
      "metadata": {
        "colab": {
          "base_uri": "https://localhost:8080/",
          "height": 35
        },
        "id": "IRYH4E_DsSOK",
        "outputId": "3ea76cc8-57c5-4076-db8e-e08e6e002364"
      },
      "execution_count": null,
      "outputs": [
        {
          "output_type": "execute_result",
          "data": {
            "text/plain": [
              "'HELLO'"
            ],
            "application/vnd.google.colaboratory.intrinsic+json": {
              "type": "string"
            }
          },
          "metadata": {},
          "execution_count": 6
        }
      ]
    },
    {
      "cell_type": "code",
      "source": [
        "#5.Write a code to replace the word \"apple\" with \"orange\" in the string \"I like apple\"\n",
        "string = \"I like apple\"\n",
        "modified_string=string.replace(\"apple\", \"orange\")\n",
        "print(modified_string)"
      ],
      "metadata": {
        "colab": {
          "base_uri": "https://localhost:8080/"
        },
        "id": "Q6HYr_mZsnl6",
        "outputId": "342d4821-d44c-4224-ed74-29614c707a91"
      },
      "execution_count": null,
      "outputs": [
        {
          "output_type": "stream",
          "name": "stdout",
          "text": [
            "I like orange\n"
          ]
        }
      ]
    },
    {
      "cell_type": "code",
      "source": [
        "#6.Write a code to create a list with numbers 1 to 5 and print it\n",
        "number=(1,2,3,4,5)\n",
        "list_of_number=number\n",
        "print(\"list with number\",number)"
      ],
      "metadata": {
        "colab": {
          "base_uri": "https://localhost:8080/"
        },
        "id": "tS0VG-u0s6Qw",
        "outputId": "593129cd-871b-4aee-a21f-c45f90913e45"
      },
      "execution_count": null,
      "outputs": [
        {
          "output_type": "stream",
          "name": "stdout",
          "text": [
            "list with number (1, 2, 3, 4, 5)\n"
          ]
        }
      ]
    },
    {
      "cell_type": "code",
      "source": [
        "#7.Write a code to append the number 10 to the list [1, 2, 3, 4]\n",
        "numbers = [1, 2, 3, 4]\n",
        "numbers.append(10)\n",
        "print(\"number\", numbers)"
      ],
      "metadata": {
        "colab": {
          "base_uri": "https://localhost:8080/"
        },
        "id": "Xmuxv-VitMcQ",
        "outputId": "0985b5fe-7aea-4b15-b444-100570aeebe0"
      },
      "execution_count": null,
      "outputs": [
        {
          "output_type": "stream",
          "name": "stdout",
          "text": [
            "number [1, 2, 3, 4, 10]\n"
          ]
        }
      ]
    },
    {
      "cell_type": "code",
      "source": [
        "#8.Write a code to remove the number 3 from the list [1, 2, 3, 4, 5]\n",
        "numbers = [1, 2, 3, 4, 5]\n",
        "numbers.remove(3)\n",
        "print(\"list:\", numbers)"
      ],
      "metadata": {
        "colab": {
          "base_uri": "https://localhost:8080/"
        },
        "id": "l6mi5SBktfF_",
        "outputId": "d5c5dba6-202c-4cef-9e3a-fb2f9069bddb"
      },
      "execution_count": null,
      "outputs": [
        {
          "output_type": "stream",
          "name": "stdout",
          "text": [
            "list: [1, 2, 4, 5]\n"
          ]
        }
      ]
    },
    {
      "cell_type": "code",
      "source": [
        "#9.Write a code to access the second element in the list ['a', 'b', 'c', 'd']\n",
        "letters = ['a', 'b', 'c', 'd']\n",
        "second_element = letters[1]\n",
        "print(\"Second element:\", second_element)"
      ],
      "metadata": {
        "id": "gNyOF-eKtrTe"
      },
      "execution_count": null,
      "outputs": []
    },
    {
      "cell_type": "code",
      "source": [
        "#10.Write a code to reverse the list [10, 20, 30, 40, 50].\n",
        "numbers = [10, 20, 30, 40, 50]\n",
        "numbers.reverse()\n",
        "print(\"Reversed list:\", numbers)"
      ],
      "metadata": {
        "colab": {
          "base_uri": "https://localhost:8080/"
        },
        "id": "muvVOMoAt1ZW",
        "outputId": "4c430e23-c1f0-4c0e-c533-83cb36abe9e7"
      },
      "execution_count": null,
      "outputs": [
        {
          "output_type": "stream",
          "name": "stdout",
          "text": [
            "Reversed list: [50, 40, 30, 20, 10]\n"
          ]
        }
      ]
    },
    {
      "cell_type": "code",
      "source": [
        "#11.Write a code to create a tuple with the elements 100, 200, 300 and print it\n",
        "tuple=(100,200,300)\n",
        "print(tuple)"
      ],
      "metadata": {
        "colab": {
          "base_uri": "https://localhost:8080/"
        },
        "id": "p7xJkf1furKO",
        "outputId": "136d7e69-b1bd-49f7-b2ad-b31f9356691e"
      },
      "execution_count": null,
      "outputs": [
        {
          "output_type": "stream",
          "name": "stdout",
          "text": [
            "(100, 200, 300)\n"
          ]
        }
      ]
    },
    {
      "cell_type": "code",
      "source": [
        "#12.Write a code to access the second-to-last element of the tuple ('red', 'green', 'blue', 'yellow')\n",
        "colour=(\"red\",\"green\",\"blue\",\"yellow\")\n",
        "second_to_last=colour[1:4]\n",
        "print(second_to_last)\n"
      ],
      "metadata": {
        "colab": {
          "base_uri": "https://localhost:8080/"
        },
        "id": "OfdfFhYPu9av",
        "outputId": "7b43a2fa-58b7-4e7d-cea9-9ea62a1f0425"
      },
      "execution_count": null,
      "outputs": [
        {
          "output_type": "stream",
          "name": "stdout",
          "text": [
            "('green', 'blue', 'yellow')\n"
          ]
        }
      ]
    },
    {
      "cell_type": "code",
      "source": [
        "#13.Write a code to find the minimum number in the tuple (10, 20, 5, 15)\n",
        "number=(10,20,5,15)\n",
        "min(number)\n"
      ],
      "metadata": {
        "colab": {
          "base_uri": "https://localhost:8080/"
        },
        "id": "Sz-uFy1Cwm7A",
        "outputId": "89046954-efa9-44ab-ae67-0f7364f10a25"
      },
      "execution_count": null,
      "outputs": [
        {
          "output_type": "execute_result",
          "data": {
            "text/plain": [
              "5"
            ]
          },
          "metadata": {},
          "execution_count": 19
        }
      ]
    },
    {
      "cell_type": "code",
      "source": [
        "#14.Write a code to find the index of the element \"cat\" in the tuple ('dog', 'cat', 'rabbit')\n",
        "animals=(\"dog\",\"cat\",\"rabbit\")\n",
        "animals.index(\"cat\")\n",
        "\n"
      ],
      "metadata": {
        "colab": {
          "base_uri": "https://localhost:8080/"
        },
        "id": "P8nPaZEQxOFC",
        "outputId": "7e2787e3-087c-402c-a632-96aed62ef61d"
      },
      "execution_count": null,
      "outputs": [
        {
          "output_type": "execute_result",
          "data": {
            "text/plain": [
              "1"
            ]
          },
          "metadata": {},
          "execution_count": 24
        }
      ]
    },
    {
      "cell_type": "code",
      "source": [
        "#15.Write a code to create a tuple containing three different fruits and check if \"kiwi\" is in it\n",
        "fruits=(\"apple\",\"banana\",\"kiwi\")\n",
        "\"kiwi\" in fruits"
      ],
      "metadata": {
        "colab": {
          "base_uri": "https://localhost:8080/"
        },
        "id": "t414O84Sz82y",
        "outputId": "8e5a40ca-51be-4d83-cca5-4f1bea3c7377"
      },
      "execution_count": null,
      "outputs": [
        {
          "output_type": "execute_result",
          "data": {
            "text/plain": [
              "True"
            ]
          },
          "metadata": {},
          "execution_count": 26
        }
      ]
    },
    {
      "cell_type": "code",
      "source": [
        "#16.Write a code to create a set with the elements 'a', 'b', 'c' and print it\n",
        "set=(\"a\",\"b\",\"c\")\n",
        "print(set)"
      ],
      "metadata": {
        "colab": {
          "base_uri": "https://localhost:8080/"
        },
        "id": "fsH2Gm5d0pny",
        "outputId": "f80208e1-9f66-45fc-8628-f3852f092170"
      },
      "execution_count": null,
      "outputs": [
        {
          "output_type": "stream",
          "name": "stdout",
          "text": [
            "('a', 'b', 'c')\n"
          ]
        }
      ]
    },
    {
      "cell_type": "code",
      "source": [
        "#17.Write a code to clear all elements from the set {1, 2, 3, 4, 5}\n",
        "set={1,2,3,4,5}\n",
        "set.clear()\n",
        "print(set)"
      ],
      "metadata": {
        "colab": {
          "base_uri": "https://localhost:8080/"
        },
        "id": "3d-AGdQh1IF2",
        "outputId": "489c9c00-65b5-4afa-b322-fa85b4dcad47"
      },
      "execution_count": null,
      "outputs": [
        {
          "output_type": "stream",
          "name": "stdout",
          "text": [
            "set()\n"
          ]
        }
      ]
    },
    {
      "cell_type": "code",
      "source": [
        "#18.Write a code to remove the element 4 from the set {1, 2, 3, 4}\n",
        "set={1,2,3,4}\n",
        "set.remove(4)\n",
        "print(set)"
      ],
      "metadata": {
        "colab": {
          "base_uri": "https://localhost:8080/"
        },
        "id": "0JKRmrcf1YE7",
        "outputId": "3c869879-8310-462a-e3a6-e9bf826f399b"
      },
      "execution_count": null,
      "outputs": [
        {
          "output_type": "stream",
          "name": "stdout",
          "text": [
            "{1, 2, 3}\n"
          ]
        }
      ]
    },
    {
      "cell_type": "code",
      "source": [
        "#19.Write a code to find the union of two sets {1, 2, 3} and {3, 4, 5}\n",
        "set1={1,2,3}\n",
        "set2={3,4,5}\n",
        "set1.union(set2)"
      ],
      "metadata": {
        "colab": {
          "base_uri": "https://localhost:8080/"
        },
        "id": "TaIqxCIR1oPN",
        "outputId": "3ce72216-bbec-4469-fb35-aeb0063ad369"
      },
      "execution_count": null,
      "outputs": [
        {
          "output_type": "execute_result",
          "data": {
            "text/plain": [
              "{1, 2, 3, 4, 5}"
            ]
          },
          "metadata": {},
          "execution_count": 34
        }
      ]
    },
    {
      "cell_type": "code",
      "source": [
        "#20.Write a code to find the intersection of two sets {1, 2, 3} and {2, 3, 4}\n",
        "set1={1,2,3}\n",
        "set2={2,3,4}\n",
        "set1.intersection(set2)\n"
      ],
      "metadata": {
        "colab": {
          "base_uri": "https://localhost:8080/"
        },
        "id": "fGnUborR2XkW",
        "outputId": "17a10ade-796e-4001-f3e0-c3a2fb2fe334"
      },
      "execution_count": null,
      "outputs": [
        {
          "output_type": "execute_result",
          "data": {
            "text/plain": [
              "{2, 3}"
            ]
          },
          "metadata": {},
          "execution_count": 35
        }
      ]
    },
    {
      "cell_type": "code",
      "source": [
        "#21.Write a code to create a dictionary with the keys \"name\", \"age\", and \"city\", and print it\n",
        "person={\"name\":\"alice\",\"age\":\"25\",\"city\":\"new york\"}\n",
        "person"
      ],
      "metadata": {
        "colab": {
          "base_uri": "https://localhost:8080/"
        },
        "id": "sj05tKsy3iuC",
        "outputId": "46a18fe5-f94a-47fb-9e8a-8e227bc256db"
      },
      "execution_count": null,
      "outputs": [
        {
          "output_type": "execute_result",
          "data": {
            "text/plain": [
              "{'name': 'alice', 'age': '25', 'city': 'new york'}"
            ]
          },
          "metadata": {},
          "execution_count": 42
        }
      ]
    },
    {
      "cell_type": "code",
      "source": [
        "#22.Write a code to add a new key-value pair \"country\": \"USA\" to the dictionary {'name': 'John', 'age': 25}.\n",
        "person = {'name': 'John', 'age': 25}\n",
        "person['country'] = 'USA'\n",
        "print(person)\n"
      ],
      "metadata": {
        "colab": {
          "base_uri": "https://localhost:8080/"
        },
        "id": "tYKCo6Ro4Xps",
        "outputId": "71a30f2c-25f5-4fc3-da44-bd18845d3fe8"
      },
      "execution_count": null,
      "outputs": [
        {
          "output_type": "stream",
          "name": "stdout",
          "text": [
            "{'name': 'John', 'age': 25, 'country': 'USA'}\n"
          ]
        }
      ]
    },
    {
      "cell_type": "code",
      "source": [
        "#23.Write a code to access the value associated with the key \"name\" in the dictionary {'name': 'Alice', 'age': 30}.\n",
        "person = {'name': 'Alice', 'age': 30}\n",
        "name_value = person['name']\n",
        "print(name_value)"
      ],
      "metadata": {
        "colab": {
          "base_uri": "https://localhost:8080/"
        },
        "id": "e_KM8aiy5IDj",
        "outputId": "43db0fa9-884e-415a-e48e-9e5da22c635e"
      },
      "execution_count": null,
      "outputs": [
        {
          "output_type": "stream",
          "name": "stdout",
          "text": [
            "Alice\n"
          ]
        }
      ]
    },
    {
      "cell_type": "code",
      "source": [
        "#24.Write a code to remove the key \"age\" from the dictionary {'name': 'Bob', 'age': 22, 'city': 'New York'}\n",
        "person={\"name\":\"bob\",\"age\":\"22\",\"city\":\"new york\"}\n",
        "person.pop(\"age\")\n",
        "print(person)"
      ],
      "metadata": {
        "colab": {
          "base_uri": "https://localhost:8080/"
        },
        "id": "dBWWOdhi7-oU",
        "outputId": "4dacc7d7-1d27-4638-f1fb-2e6582e4cb81"
      },
      "execution_count": null,
      "outputs": [
        {
          "output_type": "stream",
          "name": "stdout",
          "text": [
            "{'name': 'bob', 'city': 'new york'}\n"
          ]
        }
      ]
    },
    {
      "cell_type": "code",
      "source": [
        "#25.Write a code to check if the key \"city\" exists in the dictionary {'name': 'Alice', 'city': 'Paris'}\n",
        "person={\"name:\":\"alice\",\"city\":\"paris\"}\n",
        "key_exist=\"city\"in person\n",
        "print(key_exist)\n"
      ],
      "metadata": {
        "colab": {
          "base_uri": "https://localhost:8080/"
        },
        "id": "kM7I2GAM8t1G",
        "outputId": "2fb72c52-b243-4c2d-b36d-0477087dc73c"
      },
      "execution_count": null,
      "outputs": [
        {
          "output_type": "stream",
          "name": "stdout",
          "text": [
            "True\n"
          ]
        }
      ]
    },
    {
      "cell_type": "code",
      "source": [
        "#26.Write a code to create a list, a tuple, and a dictionary, and print them all\n",
        "list=(1,3,4,6)\n",
        "tuple=(\"mango\",\"fruits\",\"suyog\")\n",
        "dict={\"name\":\"suyog\",\"age\":\"21\"}\n",
        "print(\"list\",list)\n",
        "print(\"tuple\",tuple)\n",
        "print(\"dict\",dict)"
      ],
      "metadata": {
        "colab": {
          "base_uri": "https://localhost:8080/"
        },
        "id": "6AH5CJ6C-vxQ",
        "outputId": "946199ca-bbba-43cf-9032-13b7d4981026"
      },
      "execution_count": null,
      "outputs": [
        {
          "output_type": "stream",
          "name": "stdout",
          "text": [
            "list (1, 3, 4, 6)\n",
            "tuple ('mango', 'fruits', 'suyog')\n",
            "dict {'name': 'suyog', 'age': '21'}\n"
          ]
        }
      ]
    },
    {
      "cell_type": "code",
      "source": [
        "#27Write a code to create a list of 5 random numbers between 1 and 100, sort it in ascending order, and print the\n",
        "#result\n",
        "random_numbers = random.sample(range(1, 101), 5)\n",
        "random_numbers.sort()\n",
        "print(\"Sorted random numbers:\", random_numbers)\n",
        "\n"
      ],
      "metadata": {
        "colab": {
          "base_uri": "https://localhost:8080/",
          "height": 211
        },
        "id": "-eBYKWfLN-fD",
        "outputId": "536ef0b7-731d-4b43-ca62-353577ff1875"
      },
      "execution_count": null,
      "outputs": [
        {
          "output_type": "error",
          "ename": "NameError",
          "evalue": "name 'random' is not defined",
          "traceback": [
            "\u001b[0;31m---------------------------------------------------------------------------\u001b[0m",
            "\u001b[0;31mNameError\u001b[0m                                 Traceback (most recent call last)",
            "\u001b[0;32m<ipython-input-61-e701f0edf01a>\u001b[0m in \u001b[0;36m<cell line: 0>\u001b[0;34m()\u001b[0m\n\u001b[1;32m      1\u001b[0m \u001b[0;31m#27Write a code to create a list of 5 random numbers between 1 and 100, sort it in ascending order, and print the\u001b[0m\u001b[0;34m\u001b[0m\u001b[0;34m\u001b[0m\u001b[0m\n\u001b[1;32m      2\u001b[0m \u001b[0;31m#result\u001b[0m\u001b[0;34m\u001b[0m\u001b[0;34m\u001b[0m\u001b[0m\n\u001b[0;32m----> 3\u001b[0;31m \u001b[0mrandom_numbers\u001b[0m \u001b[0;34m=\u001b[0m \u001b[0mrandom\u001b[0m\u001b[0;34m.\u001b[0m\u001b[0msample\u001b[0m\u001b[0;34m(\u001b[0m\u001b[0mrange\u001b[0m\u001b[0;34m(\u001b[0m\u001b[0;36m1\u001b[0m\u001b[0;34m,\u001b[0m \u001b[0;36m101\u001b[0m\u001b[0;34m)\u001b[0m\u001b[0;34m,\u001b[0m \u001b[0;36m5\u001b[0m\u001b[0;34m)\u001b[0m\u001b[0;34m\u001b[0m\u001b[0;34m\u001b[0m\u001b[0m\n\u001b[0m\u001b[1;32m      4\u001b[0m \u001b[0mrandom_numbers\u001b[0m\u001b[0;34m.\u001b[0m\u001b[0msort\u001b[0m\u001b[0;34m(\u001b[0m\u001b[0;34m)\u001b[0m\u001b[0;34m\u001b[0m\u001b[0;34m\u001b[0m\u001b[0m\n\u001b[1;32m      5\u001b[0m \u001b[0mprint\u001b[0m\u001b[0;34m(\u001b[0m\u001b[0;34m\"Sorted random numbers:\"\u001b[0m\u001b[0;34m,\u001b[0m \u001b[0mrandom_numbers\u001b[0m\u001b[0;34m)\u001b[0m\u001b[0;34m\u001b[0m\u001b[0;34m\u001b[0m\u001b[0m\n",
            "\u001b[0;31mNameError\u001b[0m: name 'random' is not defined"
          ]
        }
      ]
    },
    {
      "cell_type": "code",
      "source": [
        "#28.Write a code to create a list with strings and print the element at the third index\n",
        "string_list=[\"apple\",\"banana\",\"cherry\",\"date\",\"elderberry\"]\n",
        "print(\"Element at index 3:\",string_list[3])\n",
        "\n",
        "\n"
      ],
      "metadata": {
        "colab": {
          "base_uri": "https://localhost:8080/"
        },
        "id": "sNrT60t6OzFw",
        "outputId": "c35f7b87-0193-4239-aba4-f24de18d4e60"
      },
      "execution_count": null,
      "outputs": [
        {
          "output_type": "stream",
          "name": "stdout",
          "text": [
            "Element at index 3: date\n"
          ]
        }
      ]
    },
    {
      "cell_type": "code",
      "source": [
        "#29.Write a code to combine two dictionaries into one and print the result\n",
        "dict1={\"a\":1,\"b\":2,\"c\":3}\n",
        "dict2={\"d\":4,\"e\":5,\"f\":6}\n",
        "combined_dict=dict1.copy()\n",
        "print(\"Combined Dictionary:\",combined_dict)\n",
        "\n",
        "\n"
      ],
      "metadata": {
        "colab": {
          "base_uri": "https://localhost:8080/"
        },
        "id": "PqbNRELfPSxc",
        "outputId": "7cd24791-863a-45a4-d853-c997cb1dd7fa"
      },
      "execution_count": null,
      "outputs": [
        {
          "output_type": "stream",
          "name": "stdout",
          "text": [
            "Combined Dictionary: {'a': 1, 'b': 2, 'c': 3}\n"
          ]
        }
      ]
    },
    {
      "cell_type": "code",
      "source": [
        "#30.Write a code to convert a list of strings into a set\n",
        "string_list=[\"apple\",\"banana\",\"cherry\",\"apple\",\"banana\"]\n",
        "string_set=set(string_list)\n",
        "print(\"Converted set:\",string_set)\n"
      ],
      "metadata": {
        "colab": {
          "base_uri": "https://localhost:8080/",
          "height": 193
        },
        "id": "Q6NP77wwP4iy",
        "outputId": "169c9084-f63c-4c67-83aa-4d0dda7040aa"
      },
      "execution_count": null,
      "outputs": [
        {
          "output_type": "error",
          "ename": "TypeError",
          "evalue": "'set' object is not callable",
          "traceback": [
            "\u001b[0;31m---------------------------------------------------------------------------\u001b[0m",
            "\u001b[0;31mTypeError\u001b[0m                                 Traceback (most recent call last)",
            "\u001b[0;32m<ipython-input-64-e4a8a856cc96>\u001b[0m in \u001b[0;36m<cell line: 0>\u001b[0;34m()\u001b[0m\n\u001b[1;32m      1\u001b[0m \u001b[0;31m#30.Write a code to convert a list of strings into a set\u001b[0m\u001b[0;34m\u001b[0m\u001b[0;34m\u001b[0m\u001b[0m\n\u001b[1;32m      2\u001b[0m \u001b[0mstring_list\u001b[0m\u001b[0;34m=\u001b[0m\u001b[0;34m[\u001b[0m\u001b[0;34m\"apple\"\u001b[0m\u001b[0;34m,\u001b[0m\u001b[0;34m\"banana\"\u001b[0m\u001b[0;34m,\u001b[0m\u001b[0;34m\"cherry\"\u001b[0m\u001b[0;34m,\u001b[0m\u001b[0;34m\"apple\"\u001b[0m\u001b[0;34m,\u001b[0m\u001b[0;34m\"banana\"\u001b[0m\u001b[0;34m]\u001b[0m\u001b[0;34m\u001b[0m\u001b[0;34m\u001b[0m\u001b[0m\n\u001b[0;32m----> 3\u001b[0;31m \u001b[0mstring_set\u001b[0m\u001b[0;34m=\u001b[0m\u001b[0mset\u001b[0m\u001b[0;34m(\u001b[0m\u001b[0mstring_list\u001b[0m\u001b[0;34m)\u001b[0m\u001b[0;34m\u001b[0m\u001b[0;34m\u001b[0m\u001b[0m\n\u001b[0m\u001b[1;32m      4\u001b[0m \u001b[0mprint\u001b[0m\u001b[0;34m(\u001b[0m\u001b[0;34m\"Converted set:\"\u001b[0m\u001b[0;34m,\u001b[0m\u001b[0mstring_set\u001b[0m\u001b[0;34m)\u001b[0m\u001b[0;34m\u001b[0m\u001b[0;34m\u001b[0m\u001b[0m\n",
            "\u001b[0;31mTypeError\u001b[0m: 'set' object is not callable"
          ]
        }
      ]
    }
  ]
}